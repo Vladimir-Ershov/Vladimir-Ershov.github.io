{
 "cells": [
  {
   "cell_type": "code",
   "execution_count": null,
   "id": "3ba2bd27",
   "metadata": {},
   "outputs": [],
   "source": [
    "import matplotlib.pyplot as plt\n",
    "\n",
    "from turtle import forward\n",
    "import numpy as np\n",
    "import pandas as pd\n",
    "import seaborn as sns\n",
    "import math\n",
    "from sklearn.preprocessing import StandardScaler\n",
    "from sklearn.model_selection import train_test_split\n",
    "from sklearn.metrics import confusion_matrix\n",
    "import torch\n",
    "import torch.nn as nn\n",
    "from torchvision import transforms\n",
    "from PIL import Image\n",
    "\n",
    "from torch.utils.data import Dataset, DataLoader"
   ]
  },
  {
   "cell_type": "code",
   "execution_count": null,
   "id": "7387c38a",
   "metadata": {},
   "outputs": [
    {
     "name": "stdout",
     "output_type": "stream",
     "text": [
      "True\n",
      "NVIDIA GeForce RTX 3060\n",
      "Using device: cuda\n"
     ]
    }
   ],
   "source": [
    "print(torch.cuda.is_available())\n",
    "print(torch.cuda.get_device_name(0) if torch.cuda.is_available() else \"No GPU detected\")\n",
    "device = torch.device(\"cuda\" if torch.cuda.is_available() else \"cpu\")\n",
    "print(f\"Using device: {device}\")"
   ]
  },
  {
   "cell_type": "code",
   "execution_count": 7,
   "id": "8f5b136e",
   "metadata": {},
   "outputs": [
    {
     "name": "stdout",
     "output_type": "stream",
     "text": [
      "2025-09-15 14:41:25.910737 affenpinscher is done\n",
      "2025-09-15 14:41:46.608347 african is done\n",
      "2025-09-15 14:42:13.447412 airedale is done\n",
      "2025-09-15 14:42:32.342226 akita is done\n",
      "2025-09-15 14:42:57.759303 appenzeller is done\n",
      "2025-09-15 14:43:12.959442 australian is done\n",
      "2025-09-15 14:43:30.697158 basenji is done\n",
      "2025-09-15 14:43:44.634362 beagle is done\n",
      "2025-09-15 14:44:03.668529 bluetick is done\n",
      "2025-09-15 14:44:26.329151 borzoi is done\n",
      "2025-09-15 14:44:51.394536 bouvier is done\n",
      "2025-09-15 14:45:20.600602 boxer is done\n",
      "2025-09-15 14:46:09.656130 brabancon is done\n",
      "2025-09-15 14:46:43.741048 briard is done\n",
      "2025-09-15 14:47:03.826668 buhund is done\n",
      "2025-09-15 14:47:30.388899 bulldog is done\n",
      "2025-09-15 14:47:55.982732 bullterrier is done\n",
      "2025-09-15 14:48:18.834217 cattledog is done\n",
      "2025-09-15 14:48:43.192682 chihuahua is done\n",
      "2025-09-15 14:49:07.692947 chow is done\n",
      "2025-09-15 14:49:28.222162 clumber is done\n",
      "2025-09-15 14:50:02.953361 cockapoo is done\n",
      "2025-09-15 14:50:28.848999 collie is done\n",
      "2025-09-15 14:50:58.356668 coonhound is done\n",
      "2025-09-15 14:51:22.227707 corgi is done\n",
      "2025-09-15 14:51:46.344854 cotondetulear is done\n",
      "2025-09-15 14:52:11.519843 dachshund is done\n",
      "2025-09-15 14:52:31.564775 dalmatian is done\n",
      "2025-09-15 14:52:57.812973 dane is done\n",
      "2025-09-15 14:53:11.968719 deerhound is done\n",
      "2025-09-15 14:53:31.915337 dhole is done\n",
      "2025-09-15 14:53:56.189414 dingo is done\n",
      "2025-09-15 14:54:15.423911 doberman is done\n",
      "2025-09-15 14:54:39.699508 elkhound is done\n",
      "2025-09-15 14:55:10.314998 entlebucher is done\n",
      "2025-09-15 14:55:29.915652 eskimo is done\n",
      "2025-09-15 14:55:54.064947 finnish is done\n",
      "2025-09-15 14:56:07.855075 frise is done\n",
      "2025-09-15 14:56:34.106327 germanshepherd is done\n",
      "2025-09-15 14:56:53.051127 greyhound is done\n",
      "2025-09-15 14:57:16.935139 groenendael is done\n",
      "2025-09-15 14:57:32.738244 havanese is done\n",
      "2025-09-15 14:57:51.734703 hound is done\n",
      "2025-09-15 14:58:05.837556 husky is done\n",
      "2025-09-15 14:58:29.636418 keeshond is done\n",
      "2025-09-15 14:58:48.723175 kelpie is done\n",
      "2025-09-15 14:59:03.368605 komondor is done\n",
      "2025-09-15 14:59:22.627915 kuvasz is done\n",
      "2025-09-15 14:59:41.234846 labradoodle is done\n",
      "2025-09-15 15:00:01.798051 labrador is done\n",
      "2025-09-15 15:00:29.215117 leonberg is done\n",
      "2025-09-15 15:00:43.655953 lhasa is done\n",
      "2025-09-15 15:01:07.687864 malamute is done\n",
      "2025-09-15 15:01:22.011910 malinois is done\n",
      "2025-09-15 15:01:42.011794 maltese is done\n",
      "2025-09-15 15:01:57.438759 mastiff is done\n",
      "2025-09-15 15:02:17.648538 mexicanhairless is done\n",
      "2025-09-15 15:02:34.110452 mix is done\n",
      "2025-09-15 15:02:55.481785 mountain is done\n",
      "2025-09-15 15:03:10.271112 newfoundland is done\n",
      "2025-09-15 15:03:29.333296 otterhound is done\n",
      "2025-09-15 15:03:45.613311 ovcharka is done\n",
      "2025-09-15 15:04:00.107039 papillon is done\n",
      "2025-09-15 15:04:20.069527 pekinese is done\n",
      "2025-09-15 15:04:33.820126 pembroke is done\n",
      "2025-09-15 15:04:49.809887 pinscher is done\n",
      "2025-09-15 15:05:09.469109 pitbull is done\n",
      "2025-09-15 15:05:30.234217 pointer is done\n",
      "2025-09-15 15:05:44.418220 pomeranian is done\n",
      "2025-09-15 15:06:09.230091 poodle is done\n",
      "2025-09-15 15:06:33.681101 pug is done\n",
      "2025-09-15 15:06:46.857957 puggle is done\n",
      "2025-09-15 15:07:01.001842 pyrenees is done\n",
      "2025-09-15 15:07:21.235401 redbone is done\n",
      "2025-09-15 15:07:38.182896 retriever is done\n",
      "2025-09-15 15:07:58.008579 ridgeback is done\n",
      "2025-09-15 15:08:12.074533 rottweiler is done\n",
      "2025-09-15 15:08:31.129213 saluki is done\n",
      "2025-09-15 15:08:50.505083 samoyed is done\n",
      "2025-09-15 15:09:09.723409 schipperke is done\n",
      "2025-09-15 15:09:29.753748 schnauzer is done\n",
      "2025-09-15 15:09:54.621036 setter is done\n",
      "2025-09-15 15:10:14.718925 sheepdog is done\n",
      "2025-09-15 15:10:33.448911 shiba is done\n",
      "2025-09-15 15:10:47.538913 shihtzu is done\n",
      "2025-09-15 15:11:13.873052 spaniel is done\n",
      "2025-09-15 15:11:31.818514 springer is done\n",
      "2025-09-15 15:11:46.869089 stbernard is done\n",
      "2025-09-15 15:12:09.171879 terrier is done\n",
      "2025-09-15 15:12:23.247106 tervuren is done\n",
      "2025-09-15 15:12:43.368777 vizsla is done\n",
      "2025-09-15 15:13:02.832283 waterdog is done\n",
      "2025-09-15 15:13:17.215605 weimaraner is done\n",
      "2025-09-15 15:13:36.380850 whippet is done\n",
      "2025-09-15 15:13:56.198100 wolfhound is done\n"
     ]
    }
   ],
   "source": [
    "\n",
    "import time\n",
    "import requests\n",
    "import urllib.request\n",
    "from pathlib import Path\n",
    "\n",
    "\n",
    "available_breeds = ['affenpinscher', 'african', 'airedale', 'akita', 'appenzeller', 'australian', 'basenji', 'beagle', 'bluetick', 'borzoi', 'bouvier', 'boxer', 'brabancon', 'briard', 'buhund', 'bulldog', 'bullterrier', 'cattledog', 'chihuahua', 'chow', 'clumber', 'cockapoo', 'collie', 'coonhound', 'corgi', 'cotondetulear', 'dachshund', 'dalmatian', 'dane', 'deerhound', 'dhole', 'dingo', 'doberman', 'elkhound', 'entlebucher', 'eskimo', 'finnish', 'frise', 'germanshepherd', 'greyhound', 'groenendael', 'havanese', 'hound', 'husky', 'keeshond', 'kelpie', 'komondor', 'kuvasz', 'labradoodle', 'labrador', 'leonberg', 'lhasa', 'malamute', 'malinois', 'maltese', 'mastiff', 'mexicanhairless', 'mix', 'mountain', 'newfoundland', 'otterhound', 'ovcharka', 'papillon', 'pekinese', 'pembroke', 'pinscher', 'pitbull', 'pointer', 'pomeranian', 'poodle', 'pug', 'puggle', 'pyrenees', 'redbone', 'retriever', 'ridgeback', 'rottweiler', 'saluki', 'samoyed', 'schipperke', 'schnauzer', 'setter', 'sheepdog', 'shiba', 'shihtzu', 'spaniel', 'springer', 'stbernard', 'terrier', 'tervuren', 'vizsla', 'waterdog', 'weimaraner', 'whippet', 'wolfhound']\n",
    "\n",
    "def get_dog_images(breed, count=100, type='train'):    \n",
    "    for i in range(count):\n",
    "        if breed not in available_breeds:\n",
    "            raise ValueError('Breed not available')\n",
    "        else:\n",
    "            API = f'https://dog.ceo/api/breed/{breed}/images/random'\n",
    "        \n",
    "        img_url = requests.get(API).json()['message']\n",
    "        # create folder if necessary\n",
    "        breed_path = f\"../data/dogy/{type}/{breed}\"\n",
    "        Path(breed_path).mkdir(parents=True, exist_ok=True)\n",
    "        \n",
    "        # download an image and save it in folder\n",
    "        img = urllib.request.urlretrieve(img_url, f\"{breed_path}/{breed}_{i}.jpg\")\n",
    "    return None\n",
    "\n",
    "def get_breeds():\n",
    "    API = 'https://dog.ceo/api/breeds/list/all'\n",
    "    breeds = requests.get(API).json()['message']\n",
    "    return breeds.keys()\n",
    "\n",
    "from datetime import datetime\n",
    "\n",
    "for dog in available_breeds:\n",
    "    get_dog_images(dog)\n",
    "    get_dog_images(dog, type='test', count=20)\n",
    "    print(f\"{datetime.now()} {dog} is done\")\n"
   ]
  },
  {
   "cell_type": "code",
   "execution_count": null,
   "id": "5f920f7c",
   "metadata": {},
   "outputs": [],
   "source": [
    "1"
   ]
  },
  {
   "cell_type": "code",
   "execution_count": null,
   "id": "db5f3a90",
   "metadata": {},
   "outputs": [],
   "source": [
    "/a"
   ]
  },
  {
   "cell_type": "code",
   "execution_count": null,
   "id": "71d514fd",
   "metadata": {},
   "outputs": [],
   "source": []
  },
  {
   "cell_type": "code",
   "execution_count": null,
   "id": "c873558d",
   "metadata": {},
   "outputs": [],
   "source": []
  },
  {
   "cell_type": "code",
   "execution_count": 32,
   "id": "ea41c15b",
   "metadata": {},
   "outputs": [
    {
     "data": {
      "text/plain": [
       "tensor([[[ 0.0850, -0.0065,  0.0850,  ...,  0.5294,  0.5163,  0.4771],\n",
       "         [-0.0327,  0.0327,  0.3725,  ...,  0.5556,  0.5425,  0.5163],\n",
       "         [ 0.0065,  0.0850,  0.7647,  ...,  0.5686,  0.5556,  0.5294],\n",
       "         ...,\n",
       "         [ 0.5425,  0.5294,  0.5033,  ..., -1.1176, -1.1699, -1.2092],\n",
       "         [ 0.5294,  0.5425,  0.5294,  ..., -1.1307, -1.1569, -1.2092],\n",
       "         [ 0.5033,  0.5033,  0.5294,  ..., -1.1307, -1.1438, -1.1961]]])"
      ]
     },
     "execution_count": 32,
     "metadata": {},
     "output_type": "execute_result"
    }
   ],
   "source": [
    "img = Image.open(\"../data/image.png\")\n",
    "preproc = transforms.Compose([\n",
    "    transforms.RandomRotation(30),\n",
    "    transforms.Resize((300, 300)),    \n",
    "    transforms.CenterCrop(200),\n",
    "    transforms.Grayscale(),\n",
    "    transforms.RandomVerticalFlip(),\n",
    "    transforms.ToTensor(),\n",
    "    transforms.Normalize(mean=[0.5], std=[0.3]), # x.mean(), x.std() (tensor(0.5055), tensor(0.2883))\n",
    "])\n",
    "x = preproc(img)\n",
    "x"
   ]
  },
  {
   "cell_type": "code",
   "execution_count": null,
   "id": "9efdf02f",
   "metadata": {},
   "outputs": [
    {
     "name": "stdout",
     "output_type": "stream",
     "text": [
      "Done! Files extracted to /home/not7/src/Vladimir-Ershov.github.io/projects/MLRecap/data/img_class1\n"
     ]
    }
   ],
   "source": [
    "import os\n",
    "import requests\n",
    "import zipfile\n",
    "from io import BytesIO\n",
    "\n",
    "url = \"https://prod-dcd-datasets-cache-zipfiles.s3.eu-west-1.amazonaws.com/5y9wdsg2zt-2.zip\"\n",
    "target_dir = \"../local/img_class1\"\n",
    "os.makedirs(target_dir, exist_ok=True)\n",
    "\n",
    "response = requests.get(url)\n",
    "response.raise_for_status()\n",
    "\n",
    "with zipfile.ZipFile(BytesIO(response.content)) as z:\n",
    "    z.extractall(target_dir)\n",
    "\n",
    "print(f\"Done! Files extracted to {os.path.abspath(target_dir)}\")"
   ]
  },
  {
   "cell_type": "code",
   "execution_count": 10,
   "id": "909edefb",
   "metadata": {},
   "outputs": [],
   "source": [
    "import rarfile\n",
    "\n",
    "rf = rarfile.RarFile(\"../local/img_class1/Concrete Crack Images for Classification.rar\")\n",
    "rf.extractall(\"../local/img_class1\")\n",
    "rf.close()"
   ]
  },
  {
   "cell_type": "code",
   "execution_count": 78,
   "id": "1fcfbbcb",
   "metadata": {},
   "outputs": [],
   "source": [
    "from random import shuffle\n",
    "import torchvision\n",
    "from torch.utils.data import DataLoader, random_split\n",
    "\n",
    " \n",
    "preproc = transforms.Compose([\n",
    "    transforms.Resize((32, 32)),    \n",
    "    transforms.Grayscale(num_output_channels=1),\n",
    "    transforms.ToTensor(),\n",
    "    transforms.Normalize(mean=[0.5], std=[0.3]), # x.mean(), x.std() (tensor(0.5055), tensor(0.2883))\n",
    "])\n",
    "batch_size =64\n",
    "image_folder = torchvision.datasets.ImageFolder(root='../local/img_class1', transform=preproc)\n",
    "classes = ['Positive', 'Negative']\n",
    "train_size = int(0.8 * len(image_folder))\n",
    "test_size = len(image_folder) - train_size\n",
    "\n",
    "train_dataset, test_dataset = random_split(image_folder, [train_size, test_size])\n",
    "\n",
    "trainloader = DataLoader(train_dataset, batch_size=batch_size, shuffle=True, num_workers=8)\n",
    "testloader = DataLoader(test_dataset, batch_size=batch_size, shuffle=False,num_workers=8)\n"
   ]
  },
  {
   "cell_type": "code",
   "execution_count": 38,
   "id": "c2bd4113",
   "metadata": {},
   "outputs": [
    {
     "name": "stderr",
     "output_type": "stream",
     "text": [
      "Clipping input data to the valid range for imshow with RGB data ([0..1] for floats or [0..255] for integers). Got range [-0.15686274..1.1437908].\n"
     ]
    },
    {
     "data": {
      "image/png": "[encoded data removed]",
      "text/plain": [
       "<Figure size 640x480 with 1 Axes>"
      ]
     },
     "metadata": {},
     "output_type": "display_data"
    }
   ],
   "source": [
    "def imshow(img):\n",
    "    img = img / 2 + 0.5\n",
    "    npimg = img.numpy()\n",
    "    plt.imshow(np.transpose(npimg, (1, 2, 0)))\n",
    "    plt.show()\n",
    "\n",
    "dataiter = iter(trainloader)\n",
    "images, labels = next(dataiter)\n",
    "imshow(torchvision.utils.make_grid(images, nrow=2))    "
   ]
  },
  {
   "cell_type": "code",
   "execution_count": 94,
   "id": "a89ccb3b",
   "metadata": {},
   "outputs": [],
   "source": [
    "class ImageClassNet(nn.Module):\n",
    "    def __init__(self):\n",
    "        super(ImageClassNet, self).__init__()\n",
    "        self.features = nn.Sequential(\n",
    "            nn.Conv2d(1, 6, 3),  # [bs, 6, 30, 30]\n",
    "            nn.BatchNorm2d(6),\n",
    "            nn.ReLU(),\n",
    "            nn.MaxPool2d(2, 2),  # [bs, 6, 15, 15]\n",
    "            nn.Conv2d(6, 16, 3),  # [bs, 16, 13, 13]\n",
    "            nn.BatchNorm2d(16),\n",
    "            nn.ReLU(),\n",
    "            nn.MaxPool2d(2, 2)   # [bs, 16, 6, 6]\n",
    "        )\n",
    "        self.classifier = nn.Sequential(\n",
    "            nn.Linear(16 * 6 * 6, 128),\n",
    "            nn.ReLU(),\n",
    "            nn.Linear(128, 64),\n",
    "            nn.ReLU(),\n",
    "            nn.Linear(64, 1),\n",
    "            nn.Sigmoid()\n",
    "        )\n",
    "\n",
    "    def forward(self, x):\n",
    "        x = self.features(x)\n",
    "        x = torch.flatten(x, 1)\n",
    "        x = self.classifier(x)\n",
    "        return x"
   ]
  },
  {
   "cell_type": "code",
   "execution_count": 96,
   "id": "8ed0c962",
   "metadata": {},
   "outputs": [
    {
     "name": "stdout",
     "output_type": "stream",
     "text": [
      "E:0 / i:0 | \t Loss=0.6933183073997498\n",
      "E:0 / i:100 | \t Loss=0.1404748260974884\n",
      "E:0 / i:200 | \t Loss=0.05399628356099129\n",
      "E:0 / i:300 | \t Loss=0.0913194864988327\n",
      "E:0 / i:400 | \t Loss=0.06625429540872574\n",
      "E:1 / i:0 | \t Loss=0.05126481130719185\n",
      "E:1 / i:100 | \t Loss=0.130271315574646\n",
      "E:1 / i:200 | \t Loss=0.07532098889350891\n",
      "E:1 / i:300 | \t Loss=0.0510425865650177\n",
      "E:1 / i:400 | \t Loss=0.020528901368379593\n",
      "E:2 / i:0 | \t Loss=0.021499156951904297\n",
      "E:2 / i:100 | \t Loss=0.03584334999322891\n",
      "E:2 / i:200 | \t Loss=0.08001957088708878\n",
      "E:2 / i:300 | \t Loss=0.033962432295084\n",
      "E:2 / i:400 | \t Loss=0.022819871082901955\n",
      "E:3 / i:0 | \t Loss=0.014841835014522076\n",
      "E:3 / i:100 | \t Loss=0.007014396600425243\n",
      "E:3 / i:200 | \t Loss=0.007466851733624935\n",
      "E:3 / i:300 | \t Loss=0.05554235726594925\n",
      "E:3 / i:400 | \t Loss=0.047611452639102936\n",
      "E:4 / i:0 | \t Loss=0.015646254643797874\n",
      "E:4 / i:100 | \t Loss=0.013367850333452225\n",
      "E:4 / i:200 | \t Loss=0.004905323497951031\n",
      "E:4 / i:300 | \t Loss=0.06379290670156479\n",
      "E:4 / i:400 | \t Loss=0.008318981155753136\n",
      "E:5 / i:0 | \t Loss=0.004637008532881737\n",
      "E:5 / i:100 | \t Loss=0.03216593340039253\n",
      "E:5 / i:200 | \t Loss=0.009316662326455116\n",
      "E:5 / i:300 | \t Loss=0.009458708576858044\n",
      "E:5 / i:400 | \t Loss=0.005918269045650959\n",
      "E:6 / i:0 | \t Loss=0.026299472898244858\n",
      "E:6 / i:100 | \t Loss=0.015727262943983078\n",
      "E:6 / i:200 | \t Loss=0.0019272267818450928\n",
      "E:6 / i:300 | \t Loss=0.0023704557679593563\n",
      "E:6 / i:400 | \t Loss=0.14286579191684723\n",
      "E:7 / i:0 | \t Loss=0.03327452391386032\n",
      "E:7 / i:100 | \t Loss=0.035109780728816986\n",
      "E:7 / i:200 | \t Loss=0.010708686895668507\n",
      "E:7 / i:300 | \t Loss=0.007846021093428135\n",
      "E:7 / i:400 | \t Loss=0.001232647686265409\n",
      "E:8 / i:0 | \t Loss=0.0019662596751004457\n",
      "E:8 / i:100 | \t Loss=0.06213436275720596\n",
      "E:8 / i:200 | \t Loss=0.0057458593510091305\n",
      "E:8 / i:300 | \t Loss=0.04483722150325775\n",
      "E:8 / i:400 | \t Loss=0.02146591618657112\n",
      "E:9 / i:0 | \t Loss=0.005127803422510624\n",
      "E:9 / i:100 | \t Loss=0.00534047931432724\n",
      "E:9 / i:200 | \t Loss=0.0011797023471444845\n",
      "E:9 / i:300 | \t Loss=0.0017953875940293074\n",
      "E:9 / i:400 | \t Loss=0.002080383477732539\n"
     ]
    },
    {
     "data": {
      "text/plain": [
       "<Axes: >"
      ]
     },
     "execution_count": 96,
     "metadata": {},
     "output_type": "execute_result"
    },
    {
     "data": {
      "image/png": "[encoded data removed]",
      "text/plain": [
       "<Figure size 640x480 with 1 Axes>"
      ]
     },
     "metadata": {},
     "output_type": "display_data"
    }
   ],
   "source": [
    "# device = 'cpu'\n",
    "model = ImageClassNet().to(device)\n",
    "loss_fn = nn.BCELoss()\n",
    "optimizer = torch.optim.Adam(model.parameters(), lr=0.0001)\n",
    "EPOCHS = 10\n",
    "losses = []\n",
    "\n",
    "for epoch in range(EPOCHS):\n",
    "    for i, batch in enumerate(trainloader):\n",
    "        optimizer.zero_grad()\n",
    "\n",
    "        pred = model(batch[0].to(device))\n",
    "\n",
    "        loss = loss_fn(pred, batch[1].to(device).reshape(-1, 1).float())  \n",
    "        loss.backward()\n",
    "        losses.append(loss.item())\n",
    "\n",
    "        optimizer.step()\n",
    "\n",
    "        if i % 100 == 0:\n",
    "            print(f\"E:{epoch} / i:{i} | \\t Loss={loss.item()}\")\n",
    "\n",
    "\n",
    "sns.lineplot(x=range(len(losses)), y=losses)\n"
   ]
  },
  {
   "cell_type": "code",
   "execution_count": 97,
   "id": "abfef2fc",
   "metadata": {},
   "outputs": [
    {
     "name": "stdout",
     "output_type": "stream",
     "text": [
      "Accuracy: 99.39 %\n"
     ]
    }
   ],
   "source": [
    "import torch\n",
    "\n",
    "device = torch.device(\"cuda\" if torch.cuda.is_available() else \"cpu\")\n",
    "model = model.to(device) \n",
    "\n",
    "y_test = []\n",
    "y_test_hat = []\n",
    "model.eval()  # Set model to evaluation mode\n",
    "for i, data in enumerate(testloader, 0):\n",
    "    inputs, y_test_temp = data\n",
    "    inputs = inputs.to(device)  \n",
    "    y_test_temp = y_test_temp.to(device) \n",
    "    with torch.no_grad():\n",
    "        y_test_hat_temp = model(inputs).round()  \n",
    "    \n",
    "    y_test.append(y_test_temp)\n",
    "    y_test_hat.append(y_test_hat_temp)\n",
    "\n",
    "y_test = torch.cat(y_test).float()\n",
    "y_test_hat = torch.cat(y_test_hat).float()\n",
    "\n",
    "correct = (y_test_hat == y_test.reshape(-1, 1)).float().sum()\n",
    "total = y_test.numel()\n",
    "acc = correct / total\n",
    "\n",
    "print(f'Accuracy: {acc*100:.2f} %')"
   ]
  }
 ],
 "metadata": {
  "kernelspec": {
   "display_name": "Python 3",
   "language": "python",
   "name": "python3"
  },
  "language_info": {
   "codemirror_mode": {
    "name": "ipython",
    "version": 3
   },
   "file_extension": ".py",
   "mimetype": "text/x-python",
   "name": "python",
   "nbconvert_exporter": "python",
   "pygments_lexer": "ipython3",
   "version": "3.9.19"
  }
 },
 "nbformat": 4,
 "nbformat_minor": 5
}
