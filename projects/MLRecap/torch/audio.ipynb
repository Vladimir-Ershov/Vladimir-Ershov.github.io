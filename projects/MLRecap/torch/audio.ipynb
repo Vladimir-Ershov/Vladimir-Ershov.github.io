{
 "cells": [
  {
   "cell_type": "code",
   "execution_count": 2,
   "id": "49720964",
   "metadata": {},
   "outputs": [],
   "source": [
    "import matplotlib.pyplot as plt\n",
    "\n",
    "from turtle import forward\n",
    "import numpy as np\n",
    "import pandas as pd\n",
    "import seaborn as sns\n",
    "import math\n",
    "from sklearn.preprocessing import StandardScaler\n",
    "from sklearn.model_selection import train_test_split\n",
    "from sklearn.metrics import confusion_matrix\n",
    "import torch\n",
    "import torch.nn as nn\n",
    "from torchvision import transforms\n",
    "from PIL import Image\n",
    "\n",
    "from torch.utils.data import Dataset, DataLoader"
   ]
  },
  {
   "cell_type": "code",
   "execution_count": 5,
   "id": "e33d83fc",
   "metadata": {},
   "outputs": [],
   "source": [
    "import matplotlib.pyplot as plt\n",
    "\n",
    "def plot_specgram(waveform, sample_rate, title=\"Spectrogram\", file_path=None):\n",
    "    \"\"\"\n",
    "    Draw a matplotlib spectrogram from a `torchaudio.load()` waveform tensor.\n",
    "\n",
    "    Args\n",
    "    ----\n",
    "    waveform : torch.Tensor  # shape (channels, time)\n",
    "    sample_rate : int\n",
    "    title : str\n",
    "    file_path : str | None   # save to PNG if given\n",
    "    \"\"\"\n",
    "    # Convert to NumPy for Matplotlib\n",
    "    waveform = waveform.numpy()\n",
    "    channels, frames = waveform.shape\n",
    "\n",
    "    fig, axes = plt.subplots(channels, 1, figsize=(10, 4 if channels == 1 else 3*channels))\n",
    "\n",
    "    # axes is ndarray when channels>1; make it iterable in all cases\n",
    "    axes = axes if isinstance(axes, (list, tuple, np.ndarray)) else [axes]\n",
    "\n",
    "    for c, ax in enumerate(axes):\n",
    "        ax.specgram(waveform[c], Fs=sample_rate)\n",
    "        ax.set_ylabel(f\"Channel {c+1}\")\n",
    "    fig.suptitle(title)\n",
    "    plt.xlabel(\"Time [s]\")\n",
    "    plt.ylabel(\"Frequency [Hz]\")\n",
    "\n",
    "    if file_path:\n",
    "        plt.savefig(file_path, dpi=150, bbox_inches=\"tight\")\n",
    "    else:\n",
    "        plt.show()\n",
    "    plt.close(fig)\n",
    "\n",
    "\n",
    "from pathlib import Path\n",
    "import torchaudio\n",
    "from torch.utils.data import Dataset, DataLoader\n",
    "from torchvision import transforms  \n",
    "\n",
    "class AudioFolder(Dataset):\n",
    "    def __init__(self, root, transform=None, target_transform=None,\n",
    "                 extensions=(\".wav\", \".flac\", \".mp3\")):\n",
    "        self.root = Path(root)\n",
    "        self.transform = transform\n",
    "        self.target_transform = target_transform\n",
    "        self.extensions = extensions\n",
    "\n",
    "        # crawl sub-dirs and record (path, class_idx)\n",
    "        self.classes = sorted({p.parent.name for p in self.root.rglob(\"*\") if p.suffix in extensions})\n",
    "        self.class_to_idx = {c: i for i, c in enumerate(self.classes)}\n",
    "        self.samples = [(p, self.class_to_idx[p.parent.name])\n",
    "                        for p in self.root.rglob(\"*\") if p.suffix in extensions]\n",
    "\n",
    "    def __len__(self):\n",
    "        return len(self.samples)\n",
    "\n",
    "    def __getitem__(self, idx):\n",
    "        path, label = self.samples[idx]\n",
    "        waveform, sr = torchaudio.load(path)\n",
    "\n",
    "        if self.transform:\n",
    "            waveform = self.transform(waveform)\n",
    "        if self.target_transform:\n",
    "            label = self.target_transform(label)\n",
    "\n",
    "        return waveform, sr, label\n"
   ]
  },
  {
   "cell_type": "code",
   "execution_count": null,
   "id": "077d39b7",
   "metadata": {},
   "outputs": [
    {
     "ename": "ModuleNotFoundError",
     "evalue": "No module named 'plot_audio'",
     "output_type": "error",
     "traceback": [
      "\u001b[0;31m---------------------------------------------------------------------------\u001b[0m",
      "\u001b[0;31mModuleNotFoundError\u001b[0m                       Traceback (most recent call last)",
      "Cell \u001b[0;32mIn[3], line 2\u001b[0m\n\u001b[1;32m      1\u001b[0m \u001b[38;5;28;01mimport\u001b[39;00m\u001b[38;5;250m \u001b[39m\u001b[38;5;21;01mtorchaudio\u001b[39;00m\n\u001b[0;32m----> 2\u001b[0m \u001b[38;5;28;01mfrom\u001b[39;00m\u001b[38;5;250m \u001b[39m\u001b[38;5;21;01mplot_audio\u001b[39;00m\u001b[38;5;250m  \u001b[39m\u001b[38;5;28;01mimport\u001b[39;00m plot_specgram\n",
      "\u001b[0;31mModuleNotFoundError\u001b[0m: No module named 'plot_audio'"
     ]
    }
   ],
   "source": [
    "import torchaudio\n",
    "\n",
    "\n",
    "\n",
    "waveform, sr = torchaudio.load(\"mysample.wav\")\n",
    "plot_specgram(waveform, sr, file_path=\"mysample_spec.png\")  "
   ]
  },
  {
   "cell_type": "code",
   "execution_count": null,
   "id": "9eadcb3d",
   "metadata": {},
   "outputs": [],
   "source": []
  },
  {
   "cell_type": "code",
   "execution_count": null,
   "id": "5e183562",
   "metadata": {},
   "outputs": [],
   "source": []
  },
  {
   "cell_type": "code",
   "execution_count": null,
   "id": "c4911ee1",
   "metadata": {},
   "outputs": [],
   "source": []
  }
 ],
 "metadata": {
  "kernelspec": {
   "display_name": "Python 3",
   "language": "python",
   "name": "python3"
  },
  "language_info": {
   "codemirror_mode": {
    "name": "ipython",
    "version": 3
   },
   "file_extension": ".py",
   "mimetype": "text/x-python",
   "name": "python",
   "nbconvert_exporter": "python",
   "pygments_lexer": "ipython3",
   "version": "3.9.19"
  }
 },
 "nbformat": 4,
 "nbformat_minor": 5
}
