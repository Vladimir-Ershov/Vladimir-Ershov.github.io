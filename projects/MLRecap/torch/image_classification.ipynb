{
 "cells": [
  {
   "cell_type": "code",
   "execution_count": 11,
   "id": "3ba2bd27",
   "metadata": {},
   "outputs": [],
   "source": [
    "import matplotlib.pyplot as plt\n",
    "\n",
    "from turtle import forward\n",
    "import numpy as np\n",
    "import pandas as pd\n",
    "import seaborn as sns\n",
    "import math\n",
    "from sklearn.preprocessing import StandardScaler\n",
    "from sklearn.model_selection import train_test_split\n",
    "from sklearn.metrics import confusion_matrix\n",
    "import torch\n",
    "import torch.nn as nn\n",
    "from torchvision import transforms\n",
    "from PIL import Image\n",
    "\n",
    "from torch.utils.data import Dataset, DataLoader"
   ]
  },
  {
   "cell_type": "markdown",
   "id": "e126581d",
   "metadata": {},
   "source": [
    "Load\n",
    "Augmentation:\n",
    "- Scale / Crop\n",
    "- Recolor (8bit->4bit->1bit rescale)\n",
    "- rotation+crop, move+crop, flip\n",
    "To tensor\n",
    "Normalisation (against global stats)\n"
   ]
  },
  {
   "cell_type": "code",
   "execution_count": 32,
   "id": "ea41c15b",
   "metadata": {},
   "outputs": [
    {
     "data": {
      "text/plain": [
       "tensor([[[ 0.0850, -0.0065,  0.0850,  ...,  0.5294,  0.5163,  0.4771],\n",
       "         [-0.0327,  0.0327,  0.3725,  ...,  0.5556,  0.5425,  0.5163],\n",
       "         [ 0.0065,  0.0850,  0.7647,  ...,  0.5686,  0.5556,  0.5294],\n",
       "         ...,\n",
       "         [ 0.5425,  0.5294,  0.5033,  ..., -1.1176, -1.1699, -1.2092],\n",
       "         [ 0.5294,  0.5425,  0.5294,  ..., -1.1307, -1.1569, -1.2092],\n",
       "         [ 0.5033,  0.5033,  0.5294,  ..., -1.1307, -1.1438, -1.1961]]])"
      ]
     },
     "execution_count": 32,
     "metadata": {},
     "output_type": "execute_result"
    }
   ],
   "source": [
    "img = Image.open(\"../data/image.png\")\n",
    "preproc = transforms.Compose([\n",
    "    transforms.RandomRotation(30),\n",
    "    transforms.Resize((300, 300)),    \n",
    "    transforms.CenterCrop(200),\n",
    "    transforms.Grayscale(),\n",
    "    transforms.RandomVerticalFlip(),\n",
    "    transforms.ToTensor(),\n",
    "    transforms.Normalize(mean=[0.5], std=[0.3]), # x.mean(), x.std() (tensor(0.5055), tensor(0.2883))\n",
    "])\n",
    "x = preproc(img)\n",
    "x"
   ]
  },
  {
   "cell_type": "code",
   "execution_count": null,
   "id": "9efdf02f",
   "metadata": {},
   "outputs": [
    {
     "name": "stdout",
     "output_type": "stream",
     "text": [
      "Done! Files extracted to /home/not7/src/Vladimir-Ershov.github.io/projects/MLRecap/data/img_class1\n"
     ]
    }
   ],
   "source": [
    "import os\n",
    "import requests\n",
    "import zipfile\n",
    "from io import BytesIO\n",
    "\n",
    "url = \"https://prod-dcd-datasets-cache-zipfiles.s3.eu-west-1.amazonaws.com/5y9wdsg2zt-2.zip\"\n",
    "target_dir = \"../local/img_class1\"\n",
    "os.makedirs(target_dir, exist_ok=True)\n",
    "\n",
    "response = requests.get(url)\n",
    "response.raise_for_status()\n",
    "\n",
    "with zipfile.ZipFile(BytesIO(response.content)) as z:\n",
    "    z.extractall(target_dir)\n",
    "\n",
    "print(f\"Done! Files extracted to {os.path.abspath(target_dir)}\")"
   ]
  },
  {
   "cell_type": "code",
   "execution_count": 10,
   "id": "909edefb",
   "metadata": {},
   "outputs": [],
   "source": [
    "import rarfile\n",
    "\n",
    "rf = rarfile.RarFile(\"../local/img_class1/Concrete Crack Images for Classification.rar\")\n",
    "rf.extractall(\"../local/img_class1\")\n",
    "rf.close()"
   ]
  },
  {
   "cell_type": "code",
   "execution_count": null,
   "id": "1fcfbbcb",
   "metadata": {},
   "outputs": [],
   "source": [
    "img = Image.open(\"../data/image.png\")\n",
    "preproc = transforms.Compose([\n",
    "    transforms.RandomRotation(30),\n",
    "    transforms.Resize((300, 300)),    \n",
    "    transforms.CenterCrop(200),\n",
    "    transforms.Grayscale(),\n",
    "    transforms.RandomVerticalFlip(),\n",
    "    transforms.ToTensor(),\n",
    "    transforms.Normalize(mean=[0.5], std=[0.3]), # x.mean(), x.std() (tensor(0.5055), tensor(0.2883))\n",
    "])\n",
    "x = preproc(img)\n",
    "x"
   ]
  },
  {
   "cell_type": "code",
   "execution_count": null,
   "id": "c2bd4113",
   "metadata": {},
   "outputs": [],
   "source": []
  },
  {
   "cell_type": "code",
   "execution_count": null,
   "id": "2598cd2f",
   "metadata": {},
   "outputs": [],
   "source": []
  },
  {
   "cell_type": "code",
   "execution_count": null,
   "id": "15c3b356",
   "metadata": {},
   "outputs": [],
   "source": []
  },
  {
   "cell_type": "code",
   "execution_count": null,
   "id": "a89ccb3b",
   "metadata": {},
   "outputs": [],
   "source": []
  },
  {
   "cell_type": "code",
   "execution_count": null,
   "id": "fcf61243",
   "metadata": {},
   "outputs": [],
   "source": []
  }
 ],
 "metadata": {
  "kernelspec": {
   "display_name": "Python 3",
   "language": "python",
   "name": "python3"
  },
  "language_info": {
   "codemirror_mode": {
    "name": "ipython",
    "version": 3
   },
   "file_extension": ".py",
   "mimetype": "text/x-python",
   "name": "python",
   "nbconvert_exporter": "python",
   "pygments_lexer": "ipython3",
   "version": "3.9.19"
  }
 },
 "nbformat": 4,
 "nbformat_minor": 5
}
