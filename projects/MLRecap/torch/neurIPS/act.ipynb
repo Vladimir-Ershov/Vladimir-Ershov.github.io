{
 "cells": [
  {
   "cell_type": "code",
   "execution_count": 3,
   "id": "a27e0327",
   "metadata": {},
   "outputs": [],
   "source": [
    "import torch\n",
    "import numpy as np\n",
    "import pickle\n",
    "import argparse\n",
    "import matplotlib.pyplot as plt\n",
    "from copy import deepcopy\n",
    "from tqdm import tqdm\n",
    "from einops import rearrange\n",
    "import copy\n",
    "\n",
    "# from utils import sample_box_pose, sample_insertion_pose # robot functions\n",
    "# from visualize_episodes import save_videos\n",
    "from pdb import set_trace\n",
    "import matplotlib.pyplot as plt\n",
    "import math\n",
    "from typing import Optional, List\n",
    "import h5py\n",
    "from torch.utils.data import DataLoader\n",
    "from pathlib import Path\n",
    "\n",
    "import torch.nn as nn\n",
    "from torch.nn import functional as F\n",
    "import torchvision\n",
    "import torchvision.transforms as transforms\n",
    "from torch import nn, Tensor\n",
    "\n",
    "# from sim_env import make_sim_env, BOX_POSE\n",
    "# from aim import Run"
   ]
  },
  {
   "cell_type": "code",
   "execution_count": null,
   "id": "dca627f7",
   "metadata": {},
   "outputs": [],
   "source": [
    "dry_run = True\n",
    "\n",
    "args = {\n",
    "    'num_epochs': 10000,\n",
    "    'eval_interval_epochs': 500,\n",
    "    'num_eval_rollouts': 100,\n",
    "    'lr_backbone': 1e-5,\n",
    "    'batch_size': 8,\n",
    "    'trained_model_dir': '../experiments/aloha/sim_transfer_cube_scripted/second_workstream/',\n",
    "    'task_name': 'sim_transfer_cube_scripted',\n",
    "    'dataset_dir': '../data/aloha/sim_transfer_cube_scripted',\n",
    "    'chunk_size': 100,  # chunk_size is --> num_queries <-- !!!!\n",
    "    'd_model': 512,  # d_model\n",
    "    'dim_feedforward': 3200,\n",
    "    'lr': 1e-5,\n",
    "    'kl_weight': 10,\n",
    "    'state_dim': 14,\n",
    "    'num_episodes': 50,\n",
    "    'episode_len': 400,\n",
    "    'camera_names': ['top'],\n",
    "    'num_encoder_layers': 4,\n",
    "    'num_decoder_layers': 7,\n",
    "    'backbone': 'resnet18',\n",
    "    'nhead': 8,\n",
    "    'weight_decay': 1e-4,\n",
    "    'dropout': 0.1,\n",
    "    'position_embedding': 'sine',\n",
    "    'normalize_before': False,\n",
    "    'fps': 50,\n",
    "    'latent_dim': 32,\n",
    "}\n",
    "\n",
    "if dry_run:\n",
    "    args.update({\n",
    "        'num_epochs': 2,\n",
    "        'num_eval_rollouts': 2,\n",
    "    })"
   ]
  },
  {
   "cell_type": "code",
   "execution_count": null,
   "id": "30407868",
   "metadata": {},
   "outputs": [],
   "source": []
  },
  {
   "cell_type": "code",
   "execution_count": null,
   "id": "89155e65",
   "metadata": {},
   "outputs": [],
   "source": []
  },
  {
   "cell_type": "code",
   "execution_count": null,
   "id": "08804a8d",
   "metadata": {},
   "outputs": [],
   "source": []
  },
  {
   "cell_type": "code",
   "execution_count": null,
   "id": "72ba4c13",
   "metadata": {},
   "outputs": [],
   "source": []
  }
 ],
 "metadata": {
  "kernelspec": {
   "display_name": "behavior",
   "language": "python",
   "name": "python3"
  },
  "language_info": {
   "codemirror_mode": {
    "name": "ipython",
    "version": 3
   },
   "file_extension": ".py",
   "mimetype": "text/x-python",
   "name": "python",
   "nbconvert_exporter": "python",
   "pygments_lexer": "ipython3",
   "version": "3.10.18"
  }
 },
 "nbformat": 4,
 "nbformat_minor": 5
}
